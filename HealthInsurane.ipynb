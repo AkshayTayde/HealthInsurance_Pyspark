{
 "cells": [
  {
   "cell_type": "code",
   "execution_count": 61,
   "id": "509e5b21",
   "metadata": {},
   "outputs": [],
   "source": [
    "## Loading the necessary libraries\n",
    "import os\n",
    "import pandas as pd\n",
    "import numpy as np\n",
    "\n",
    "from pyspark import SparkConf, SparkContext\n",
    "from pyspark.sql import SparkSession, SQLContext\n",
    "\n",
    "from pyspark.sql.types import *\n",
    "import pyspark.sql.functions as F\n",
    "from pyspark.sql.functions import udf, col\n",
    "\n"
   ]
  },
  {
   "cell_type": "markdown",
   "id": "62c846bb",
   "metadata": {},
   "source": [
    "# Initialize spark session"
   ]
  },
  {
   "cell_type": "code",
   "execution_count": 2,
   "id": "67dad4a4",
   "metadata": {},
   "outputs": [],
   "source": [
    "\n",
    "from pyspark.sql import SparkSession"
   ]
  },
  {
   "cell_type": "code",
   "execution_count": 3,
   "id": "f464f1eb",
   "metadata": {},
   "outputs": [],
   "source": [
    "spark = SparkSession.builder.master(\"local\").appName(\"HealthInsuranceEDA\").getOrCreate()"
   ]
  },
  {
   "cell_type": "markdown",
   "id": "6073255b",
   "metadata": {},
   "source": [
    "# loading the data"
   ]
  },
  {
   "cell_type": "code",
   "execution_count": 34,
   "id": "b7374f02",
   "metadata": {},
   "outputs": [],
   "source": [
    "df_insurance = spark.read.option('header','true').csv('insurance.csv')"
   ]
  },
  {
   "cell_type": "code",
   "execution_count": 35,
   "id": "4dbea202",
   "metadata": {},
   "outputs": [
    {
     "name": "stdout",
     "output_type": "stream",
     "text": [
      "+---+------+------+--------+------+---------+-----------+\n",
      "|age|   sex|   bmi|children|smoker|   region|    charges|\n",
      "+---+------+------+--------+------+---------+-----------+\n",
      "| 19|female|  27.9|       0|   yes|southwest|  16884.924|\n",
      "| 18|  male| 33.77|       1|    no|southeast|  1725.5523|\n",
      "| 28|  male|    33|       3|    no|southeast|   4449.462|\n",
      "| 33|  male|22.705|       0|    no|northwest|21984.47061|\n",
      "| 32|  male| 28.88|       0|    no|northwest|  3866.8552|\n",
      "+---+------+------+--------+------+---------+-----------+\n",
      "only showing top 5 rows\n",
      "\n"
     ]
    }
   ],
   "source": [
    "df_insurance.show(5)"
   ]
  },
  {
   "cell_type": "code",
   "execution_count": 36,
   "id": "6fb3c496",
   "metadata": {},
   "outputs": [
    {
     "name": "stdout",
     "output_type": "stream",
     "text": [
      "root\n",
      " |-- age: string (nullable = true)\n",
      " |-- sex: string (nullable = true)\n",
      " |-- bmi: string (nullable = true)\n",
      " |-- children: string (nullable = true)\n",
      " |-- smoker: string (nullable = true)\n",
      " |-- region: string (nullable = true)\n",
      " |-- charges: string (nullable = true)\n",
      "\n"
     ]
    }
   ],
   "source": [
    "df_insurance.printSchema()"
   ]
  },
  {
   "cell_type": "markdown",
   "id": "067eaeac",
   "metadata": {},
   "source": [
    "# Exploratory Data Analysis"
   ]
  },
  {
   "cell_type": "code",
   "execution_count": 38,
   "id": "94dbf1ba",
   "metadata": {},
   "outputs": [
    {
     "data": {
      "text/plain": [
       "['age', 'sex', 'bmi', 'children', 'smoker', 'region', 'charges']"
      ]
     },
     "execution_count": 38,
     "metadata": {},
     "output_type": "execute_result"
    }
   ],
   "source": [
    "df_insurance.columns"
   ]
  },
  {
   "cell_type": "code",
   "execution_count": 39,
   "id": "617e7d27",
   "metadata": {},
   "outputs": [
    {
     "name": "stdout",
     "output_type": "stream",
     "text": [
      "+---+------+\n",
      "|age|   sex|\n",
      "+---+------+\n",
      "| 19|female|\n",
      "| 18|  male|\n",
      "| 28|  male|\n",
      "| 33|  male|\n",
      "| 32|  male|\n",
      "| 31|female|\n",
      "| 46|female|\n",
      "| 37|female|\n",
      "| 37|  male|\n",
      "| 60|female|\n",
      "+---+------+\n",
      "only showing top 10 rows\n",
      "\n"
     ]
    }
   ],
   "source": [
    "df_insurance.select('age','sex').show(10)"
   ]
  },
  {
   "cell_type": "code",
   "execution_count": 40,
   "id": "4bf7a7b1",
   "metadata": {},
   "outputs": [
    {
     "data": {
      "text/plain": [
       "[Row(children='3'),\n",
       " Row(children='0'),\n",
       " Row(children='5'),\n",
       " Row(children='1'),\n",
       " Row(children='4'),\n",
       " Row(children='2')]"
      ]
     },
     "execution_count": 40,
     "metadata": {},
     "output_type": "execute_result"
    }
   ],
   "source": [
    "df_insurance.select('children').distinct().collect()"
   ]
  },
  {
   "cell_type": "code",
   "execution_count": 52,
   "id": "2075a68e",
   "metadata": {},
   "outputs": [
    {
     "name": "stdout",
     "output_type": "stream",
     "text": [
      "+---------+-----+\n",
      "|   region|count|\n",
      "+---------+-----+\n",
      "|southwest|  325|\n",
      "|southeast|  364|\n",
      "|northwest|  325|\n",
      "|northeast|  324|\n",
      "+---------+-----+\n",
      "\n"
     ]
    }
   ],
   "source": [
    "df_insurance.groupBy(\"region\").count().sort(\"region\", ascending=False).show(10)"
   ]
  },
  {
   "cell_type": "code",
   "execution_count": 41,
   "id": "01fdfc24",
   "metadata": {},
   "outputs": [
    {
     "data": {
      "text/plain": [
       "[Row(sex='female'), Row(sex='male')]"
      ]
     },
     "execution_count": 41,
     "metadata": {},
     "output_type": "execute_result"
    }
   ],
   "source": [
    "df_insurance.select('sex').distinct().collect()"
   ]
  },
  {
   "cell_type": "markdown",
   "id": "ed0aa92a",
   "metadata": {},
   "source": [
    "# Data Cleaning \n",
    "#Check if there is any null value or missing value."
   ]
  },
  {
   "cell_type": "code",
   "execution_count": 44,
   "id": "1b071228",
   "metadata": {},
   "outputs": [
    {
     "name": "stdout",
     "output_type": "stream",
     "text": [
      "+---+---+---+--------+------+------+-------+\n",
      "|age|sex|bmi|children|smoker|region|charges|\n",
      "+---+---+---+--------+------+------+-------+\n",
      "|  0|  0|  0|       0|     0|     0|      0|\n",
      "+---+---+---+--------+------+------+-------+\n",
      "\n"
     ]
    }
   ],
   "source": [
    "from pyspark.sql.functions import isnan, when, count, col\n",
    "\n",
    "df_insurance.select([count(when(isnan(c), c)).alias(c) for c in df_insurance.columns]).show()"
   ]
  },
  {
   "cell_type": "code",
   "execution_count": 48,
   "id": "017a938b",
   "metadata": {},
   "outputs": [],
   "source": [
    "import seaborn as sns\n",
    "import matplotlib.pyplot as plt"
   ]
  },
  {
   "cell_type": "code",
   "execution_count": null,
   "id": "3104b257",
   "metadata": {},
   "outputs": [],
   "source": [
    "#Prilimanary Analysis\n",
    "#checking the density of charges "
   ]
  },
  {
   "cell_type": "code",
   "execution_count": 50,
   "id": "f43b6a97",
   "metadata": {},
   "outputs": [
    {
     "name": "stderr",
     "output_type": "stream",
     "text": [
      "/opt/anaconda3/lib/python3.8/site-packages/seaborn/distributions.py:2557: FutureWarning: `distplot` is a deprecated function and will be removed in a future version. Please adapt your code to use either `displot` (a figure-level function with similar flexibility) or `histplot` (an axes-level function for histograms).\n",
      "  warnings.warn(msg, FutureWarning)\n"
     ]
    },
    {
     "data": {
      "text/plain": [
       "<AxesSubplot:ylabel='Density'>"
      ]
     },
     "execution_count": 50,
     "metadata": {},
     "output_type": "execute_result"
    },
    {
     "data": {
      "image/png": "[encoded data removed]",
      "text/plain": [
       "<Figure size 432x288 with 1 Axes>"
      ]
     },
     "metadata": {
      "needs_background": "light"
     },
     "output_type": "display_data"
    }
   ],
   "source": [
    "sns.distplot(df_insurance.select('charges').toPandas(), color=\"skyblue\")"
   ]
  },
  {
   "cell_type": "code",
   "execution_count": null,
   "id": "72d569bd",
   "metadata": {},
   "outputs": [],
   "source": [
    "#cheching the density of bmi"
   ]
  },
  {
   "cell_type": "code",
   "execution_count": 83,
   "id": "42ec02a3",
   "metadata": {},
   "outputs": [
    {
     "data": {
      "text/plain": [
       "<AxesSubplot:ylabel='Density'>"
      ]
     },
     "execution_count": 83,
     "metadata": {},
     "output_type": "execute_result"
    },
    {
     "data": {
      "image/png": "[encoded data removed]",
      "text/plain": [
       "<Figure size 432x288 with 1 Axes>"
      ]
     },
     "metadata": {
      "needs_background": "light"
     },
     "output_type": "display_data"
    }
   ],
   "source": [
    "sns.distplot(df_insurance.select('bmi').toPandas(), color=\"skyblue\")"
   ]
  },
  {
   "cell_type": "code",
   "execution_count": 86,
   "id": "27ec575d",
   "metadata": {},
   "outputs": [
    {
     "data": {
      "text/plain": [
       "<AxesSubplot:ylabel='Density'>"
      ]
     },
     "execution_count": 86,
     "metadata": {},
     "output_type": "execute_result"
    },
    {
     "data": {
      "image/png": "[encoded data removed]",
      "text/plain": [
       "<Figure size 432x288 with 1 Axes>"
      ]
     },
     "metadata": {
      "needs_background": "light"
     },
     "output_type": "display_data"
    }
   ],
   "source": [
    "sns.distplot(df_insurance.select('age').toPandas(), color=\"skyblue\")"
   ]
  },
  {
   "cell_type": "markdown",
   "id": "b8c12295",
   "metadata": {},
   "source": [
    "# Conclusion\n",
    "PySpark is a great language for data scientists to learn because it enables scalable analysis and ML pipelines.\n",
    "If you're already familiar with Python and SQL and Pandas."
   ]
  }
 ],
 "metadata": {
  "kernelspec": {
   "display_name": "Python 3",
   "language": "python",
   "name": "python3"
  },
  "language_info": {
   "codemirror_mode": {
    "name": "ipython",
    "version": 3
   },
   "file_extension": ".py",
   "mimetype": "text/x-python",
   "name": "python",
   "nbconvert_exporter": "python",
   "pygments_lexer": "ipython3",
   "version": "3.8.8"
  }
 },
 "nbformat": 4,
 "nbformat_minor": 5
}
